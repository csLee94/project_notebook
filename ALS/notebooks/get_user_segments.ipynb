{
 "cells": [
  {
   "cell_type": "code",
   "execution_count": 10,
   "metadata": {},
   "outputs": [
    {
     "data": {
      "text/html": [
       "<div>\n",
       "<style scoped>\n",
       "    .dataframe tbody tr th:only-of-type {\n",
       "        vertical-align: middle;\n",
       "    }\n",
       "\n",
       "    .dataframe tbody tr th {\n",
       "        vertical-align: top;\n",
       "    }\n",
       "\n",
       "    .dataframe thead th {\n",
       "        text-align: right;\n",
       "    }\n",
       "</style>\n",
       "<table border=\"1\" class=\"dataframe\">\n",
       "  <thead>\n",
       "    <tr style=\"text-align: right;\">\n",
       "      <th></th>\n",
       "      <th>id</th>\n",
       "      <th>user_id</th>\n",
       "      <th>item_id</th>\n",
       "      <th>join</th>\n",
       "    </tr>\n",
       "  </thead>\n",
       "  <tbody>\n",
       "    <tr>\n",
       "      <th>0</th>\n",
       "      <td>0</td>\n",
       "      <td>0</td>\n",
       "      <td>0</td>\n",
       "      <td>0</td>\n",
       "    </tr>\n",
       "    <tr>\n",
       "      <th>1</th>\n",
       "      <td>1</td>\n",
       "      <td>0</td>\n",
       "      <td>1</td>\n",
       "      <td>0</td>\n",
       "    </tr>\n",
       "    <tr>\n",
       "      <th>2</th>\n",
       "      <td>2</td>\n",
       "      <td>0</td>\n",
       "      <td>1</td>\n",
       "      <td>0</td>\n",
       "    </tr>\n",
       "    <tr>\n",
       "      <th>3</th>\n",
       "      <td>3</td>\n",
       "      <td>0</td>\n",
       "      <td>0</td>\n",
       "      <td>0</td>\n",
       "    </tr>\n",
       "    <tr>\n",
       "      <th>4</th>\n",
       "      <td>4</td>\n",
       "      <td>0</td>\n",
       "      <td>1</td>\n",
       "      <td>0</td>\n",
       "    </tr>\n",
       "  </tbody>\n",
       "</table>\n",
       "</div>"
      ],
      "text/plain": [
       "   id  user_id  item_id  join\n",
       "0   0        0        0     0\n",
       "1   1        0        1     0\n",
       "2   2        0        1     0\n",
       "3   3        0        0     0\n",
       "4   4        0        1     0"
      ]
     },
     "execution_count": 10,
     "metadata": {},
     "output_type": "execute_result"
    }
   ],
   "source": [
    "import os\n",
    "from dotenv import load_dotenv\n",
    "import numpy as np \n",
    "import pandas as pd \n",
    "import matplotlib.pyplot as plt\n",
    "import seaborn as sns\n",
    "# from sklearn.metrics.pairwise import cosine_similarity\n",
    "\n",
    "load_dotenv()\n",
    "\n",
    "base_path = os.getenv(\"BASE_LOCAL_DIR_PATH\")\n",
    "\n",
    "df_data_org = pd.read_json(f\"{base_path}project_notebook/ALS/data/test.json\", lines=True)\n",
    "df_data_org.head()"
   ]
  },
  {
   "cell_type": "markdown",
   "metadata": {},
   "source": [
    "## Preprocessing dataset\n",
    "\n",
    "#### make score data \n",
    "> count of user's select /count of provided events\n",
    "\n",
    "제공 대비 선택 확률을 기반으로 user별로 item에 대한 `선택 확률`로서 추정.\n",
    "\n",
    "#### split segments of users\n",
    "1. n개 이상 user에게 동시에 제공된 이력이 있는 item 내역 추출\n",
    "2. 각 user별로 해당 item에 대한 경험 정도를 합집합/교집합으로 나눠 유사도를 측정\n",
    "    - 선택 집합 유사도 측정 방법: *cosine similarity*\n",
    "    - 선택 아이템의 선호에 대한 유사도 측정 방법: *euclidean distance*\n",
    "3. *cosine similarity & euclidean distance* 유사도 기반 군집화 알고리즘을 통해 segments 분리\n",
    "    - *상세 내용 미정*"
   ]
  },
  {
   "cell_type": "markdown",
   "metadata": {},
   "source": [
    "## Make score data"
   ]
  },
  {
   "cell_type": "code",
   "execution_count": 59,
   "metadata": {},
   "outputs": [
    {
     "data": {
      "text/html": [
       "<div>\n",
       "<style scoped>\n",
       "    .dataframe tbody tr th:only-of-type {\n",
       "        vertical-align: middle;\n",
       "    }\n",
       "\n",
       "    .dataframe tbody tr th {\n",
       "        vertical-align: top;\n",
       "    }\n",
       "\n",
       "    .dataframe thead th {\n",
       "        text-align: right;\n",
       "    }\n",
       "</style>\n",
       "<table border=\"1\" class=\"dataframe\">\n",
       "  <thead>\n",
       "    <tr style=\"text-align: right;\">\n",
       "      <th></th>\n",
       "      <th>user_id</th>\n",
       "      <th>item_id</th>\n",
       "      <th>apply_cnt</th>\n",
       "      <th>join_cnt</th>\n",
       "      <th>reject_cnt</th>\n",
       "      <th>ratio</th>\n",
       "    </tr>\n",
       "  </thead>\n",
       "  <tbody>\n",
       "    <tr>\n",
       "      <th>0</th>\n",
       "      <td>0</td>\n",
       "      <td>0</td>\n",
       "      <td>3.0</td>\n",
       "      <td>0.0</td>\n",
       "      <td>3.0</td>\n",
       "      <td>0.000</td>\n",
       "    </tr>\n",
       "    <tr>\n",
       "      <th>1</th>\n",
       "      <td>0</td>\n",
       "      <td>1</td>\n",
       "      <td>3.0</td>\n",
       "      <td>0.0</td>\n",
       "      <td>3.0</td>\n",
       "      <td>0.000</td>\n",
       "    </tr>\n",
       "    <tr>\n",
       "      <th>2</th>\n",
       "      <td>0</td>\n",
       "      <td>2</td>\n",
       "      <td>2.0</td>\n",
       "      <td>1.0</td>\n",
       "      <td>1.0</td>\n",
       "      <td>0.500</td>\n",
       "    </tr>\n",
       "    <tr>\n",
       "      <th>3</th>\n",
       "      <td>0</td>\n",
       "      <td>3</td>\n",
       "      <td>8.0</td>\n",
       "      <td>1.0</td>\n",
       "      <td>7.0</td>\n",
       "      <td>0.125</td>\n",
       "    </tr>\n",
       "    <tr>\n",
       "      <th>4</th>\n",
       "      <td>0</td>\n",
       "      <td>7</td>\n",
       "      <td>5.0</td>\n",
       "      <td>1.0</td>\n",
       "      <td>4.0</td>\n",
       "      <td>0.200</td>\n",
       "    </tr>\n",
       "    <tr>\n",
       "      <th>...</th>\n",
       "      <td>...</td>\n",
       "      <td>...</td>\n",
       "      <td>...</td>\n",
       "      <td>...</td>\n",
       "      <td>...</td>\n",
       "      <td>...</td>\n",
       "    </tr>\n",
       "    <tr>\n",
       "      <th>28497</th>\n",
       "      <td>69</td>\n",
       "      <td>1930</td>\n",
       "      <td>1.0</td>\n",
       "      <td>0.0</td>\n",
       "      <td>1.0</td>\n",
       "      <td>0.000</td>\n",
       "    </tr>\n",
       "    <tr>\n",
       "      <th>28498</th>\n",
       "      <td>69</td>\n",
       "      <td>1931</td>\n",
       "      <td>3.0</td>\n",
       "      <td>0.0</td>\n",
       "      <td>3.0</td>\n",
       "      <td>0.000</td>\n",
       "    </tr>\n",
       "    <tr>\n",
       "      <th>28499</th>\n",
       "      <td>69</td>\n",
       "      <td>1932</td>\n",
       "      <td>1.0</td>\n",
       "      <td>0.0</td>\n",
       "      <td>1.0</td>\n",
       "      <td>0.000</td>\n",
       "    </tr>\n",
       "    <tr>\n",
       "      <th>28500</th>\n",
       "      <td>69</td>\n",
       "      <td>1935</td>\n",
       "      <td>2.0</td>\n",
       "      <td>0.0</td>\n",
       "      <td>2.0</td>\n",
       "      <td>0.000</td>\n",
       "    </tr>\n",
       "    <tr>\n",
       "      <th>28501</th>\n",
       "      <td>69</td>\n",
       "      <td>1937</td>\n",
       "      <td>1.0</td>\n",
       "      <td>0.0</td>\n",
       "      <td>1.0</td>\n",
       "      <td>0.000</td>\n",
       "    </tr>\n",
       "  </tbody>\n",
       "</table>\n",
       "<p>28502 rows × 6 columns</p>\n",
       "</div>"
      ],
      "text/plain": [
       "       user_id  item_id  apply_cnt  join_cnt  reject_cnt  ratio\n",
       "0            0        0        3.0       0.0         3.0  0.000\n",
       "1            0        1        3.0       0.0         3.0  0.000\n",
       "2            0        2        2.0       1.0         1.0  0.500\n",
       "3            0        3        8.0       1.0         7.0  0.125\n",
       "4            0        7        5.0       1.0         4.0  0.200\n",
       "...        ...      ...        ...       ...         ...    ...\n",
       "28497       69     1930        1.0       0.0         1.0  0.000\n",
       "28498       69     1931        3.0       0.0         3.0  0.000\n",
       "28499       69     1932        1.0       0.0         1.0  0.000\n",
       "28500       69     1935        2.0       0.0         2.0  0.000\n",
       "28501       69     1937        1.0       0.0         1.0  0.000\n",
       "\n",
       "[28502 rows x 6 columns]"
      ]
     },
     "execution_count": 59,
     "metadata": {},
     "output_type": "execute_result"
    }
   ],
   "source": [
    "df_data = df_data_org.copy()\n",
    "\n",
    "def get_count(value):\n",
    "    res = dict()\n",
    "    res['apply_cnt'] = value['id'].count()\n",
    "    res['join_cnt'] = value['join'].sum()\n",
    "    res['reject_cnt'] = res['apply_cnt'] - res['join_cnt']\n",
    "    res['ratio'] = res['join_cnt'] / res['apply_cnt']\n",
    "    return pd.Series(res, index=res.keys())\n",
    "\n",
    "df_grouped = df_data.groupby(['user_id', 'item_id']).apply(get_count)\n",
    "df_grouped.reset_index(inplace=True)\n",
    "df_grouped"
   ]
  },
  {
   "cell_type": "markdown",
   "metadata": {},
   "source": [
    "## Make sample data of items"
   ]
  },
  {
   "cell_type": "code",
   "execution_count": 20,
   "metadata": {},
   "outputs": [
    {
     "data": {
      "text/html": [
       "<div>\n",
       "<style scoped>\n",
       "    .dataframe tbody tr th:only-of-type {\n",
       "        vertical-align: middle;\n",
       "    }\n",
       "\n",
       "    .dataframe tbody tr th {\n",
       "        vertical-align: top;\n",
       "    }\n",
       "\n",
       "    .dataframe thead th {\n",
       "        text-align: right;\n",
       "    }\n",
       "</style>\n",
       "<table border=\"1\" class=\"dataframe\">\n",
       "  <thead>\n",
       "    <tr style=\"text-align: right;\">\n",
       "      <th></th>\n",
       "      <th>item_id</th>\n",
       "      <th>user_id</th>\n",
       "    </tr>\n",
       "  </thead>\n",
       "  <tbody>\n",
       "    <tr>\n",
       "      <th>0</th>\n",
       "      <td>0</td>\n",
       "      <td>3</td>\n",
       "    </tr>\n",
       "    <tr>\n",
       "      <th>1</th>\n",
       "      <td>1</td>\n",
       "      <td>2</td>\n",
       "    </tr>\n",
       "    <tr>\n",
       "      <th>2</th>\n",
       "      <td>2</td>\n",
       "      <td>1</td>\n",
       "    </tr>\n",
       "    <tr>\n",
       "      <th>3</th>\n",
       "      <td>3</td>\n",
       "      <td>5</td>\n",
       "    </tr>\n",
       "    <tr>\n",
       "      <th>4</th>\n",
       "      <td>4</td>\n",
       "      <td>20</td>\n",
       "    </tr>\n",
       "    <tr>\n",
       "      <th>...</th>\n",
       "      <td>...</td>\n",
       "      <td>...</td>\n",
       "    </tr>\n",
       "    <tr>\n",
       "      <th>1949</th>\n",
       "      <td>1949</td>\n",
       "      <td>2</td>\n",
       "    </tr>\n",
       "    <tr>\n",
       "      <th>1950</th>\n",
       "      <td>1950</td>\n",
       "      <td>1</td>\n",
       "    </tr>\n",
       "    <tr>\n",
       "      <th>1951</th>\n",
       "      <td>1951</td>\n",
       "      <td>3</td>\n",
       "    </tr>\n",
       "    <tr>\n",
       "      <th>1952</th>\n",
       "      <td>1952</td>\n",
       "      <td>5</td>\n",
       "    </tr>\n",
       "    <tr>\n",
       "      <th>1953</th>\n",
       "      <td>1953</td>\n",
       "      <td>1</td>\n",
       "    </tr>\n",
       "  </tbody>\n",
       "</table>\n",
       "<p>1954 rows × 2 columns</p>\n",
       "</div>"
      ],
      "text/plain": [
       "      item_id  user_id\n",
       "0           0        3\n",
       "1           1        2\n",
       "2           2        1\n",
       "3           3        5\n",
       "4           4       20\n",
       "...       ...      ...\n",
       "1949     1949        2\n",
       "1950     1950        1\n",
       "1951     1951        3\n",
       "1952     1952        5\n",
       "1953     1953        1\n",
       "\n",
       "[1954 rows x 2 columns]"
      ]
     },
     "execution_count": 20,
     "metadata": {},
     "output_type": "execute_result"
    }
   ],
   "source": [
    "df_items = df_data[['item_id', 'user_id']].groupby(['item_id']).nunique().reset_index()\n",
    "df_items"
   ]
  },
  {
   "cell_type": "code",
   "execution_count": 30,
   "metadata": {},
   "outputs": [
    {
     "data": {
      "text/plain": [
       "<AxesSubplot: xlabel='user_id', ylabel='Density'>"
      ]
     },
     "execution_count": 30,
     "metadata": {},
     "output_type": "execute_result"
    },
    {
     "data": {
      "image/png": "[encoded data removed]",
      "text/plain": [
       "<Figure size 640x480 with 1 Axes>"
      ]
     },
     "metadata": {},
     "output_type": "display_data"
    }
   ],
   "source": [
    "sns.kdeplot(df_items['user_id'])"
   ]
  },
  {
   "cell_type": "code",
   "execution_count": 33,
   "metadata": {},
   "outputs": [],
   "source": [
    "# filtering items where provided count >10\n",
    "sample_items = list(df_items.loc[df_items['user_id']>10, \"item_id\"])"
   ]
  },
  {
   "cell_type": "markdown",
   "metadata": {},
   "source": [
    "## Apply cosine similarity & euclidean distance"
   ]
  },
  {
   "cell_type": "markdown",
   "metadata": {},
   "source": [
    "### cosine similarity"
   ]
  },
  {
   "cell_type": "code",
   "execution_count": 35,
   "metadata": {},
   "outputs": [],
   "source": [
    "def make_group(value):\n",
    "    res = dict()\n",
    "    data = value.to_dict(orient='records')\n",
    "    for row in data:\n",
    "        res[row['item_id']] = row['ratio']\n",
    "    return res\n",
    "\n",
    "cos_records = df_grouped.groupby('user_id').apply(make_group)\n",
    "cos_records = cos_records.to_dict()"
   ]
  },
  {
   "cell_type": "code",
   "execution_count": 39,
   "metadata": {},
   "outputs": [],
   "source": [
    "def get_cosine_similarity(target:dict, check:dict, mode:str =\"full\"):\n",
    "    if mode == \"full\":\n",
    "        full_items = set(list(target.keys()) + list(check.keys()))\n",
    "    elif mode == \"intersection\":\n",
    "        full_items = set(list(target.keys())).intersection(list(check.keys()))\n",
    "    list_target = list()\n",
    "    list_check = list()\n",
    "    for idx in full_items:\n",
    "        if target.get(idx) == None:\n",
    "            list_target.append(0)\n",
    "        else:\n",
    "            if target.get(idx) >=0.5:\n",
    "                list_target.append(1)\n",
    "            else:\n",
    "                list_target.append(-1)\n",
    "        \n",
    "        if check.get(idx) == None:\n",
    "            list_check.append(0)\n",
    "        else:\n",
    "            if check.get(idx) >=0.5:\n",
    "                list_check.append(1)\n",
    "            else:\n",
    "                list_check.append(-1)\n",
    "\n",
    "    return np.dot(list_target,list_check)/( np.linalg.norm(list_target)*np.linalg.norm(list_check))\n"
   ]
  },
  {
   "cell_type": "markdown",
   "metadata": {},
   "source": [
    "#### full set"
   ]
  },
  {
   "cell_type": "code",
   "execution_count": 43,
   "metadata": {},
   "outputs": [
    {
     "data": {
      "text/plain": [
       "<AxesSubplot: >"
      ]
     },
     "execution_count": 43,
     "metadata": {},
     "output_type": "execute_result"
    },
    {
     "data": {
      "image/png": "[encoded data removed]",
      "text/plain": [
       "<Figure size 640x480 with 2 Axes>"
      ]
     },
     "metadata": {},
     "output_type": "display_data"
    }
   ],
   "source": [
    "res_data = dict()\n",
    "for target_idx, target_user in cos_records.items():\n",
    "    check_data =dict()\n",
    "    for check_idx, check_user in cos_records.items():\n",
    "        check_data[check_idx] = get_cosine_similarity(target_user, check_user)\n",
    "    res_data[target_idx] = check_data\n",
    "\n",
    "cos_full = pd.DataFrame(res_data)\n",
    "sns.heatmap(cos_full)"
   ]
  },
  {
   "cell_type": "markdown",
   "metadata": {},
   "source": [
    "#### intersection set"
   ]
  },
  {
   "cell_type": "code",
   "execution_count": 44,
   "metadata": {},
   "outputs": [
    {
     "name": "stderr",
     "output_type": "stream",
     "text": [
      "/var/folders/5v/97lsv0mn5_zf34hm9v9g4_kc0000gn/T/ipykernel_3777/3710704165.py:25: RuntimeWarning: invalid value encountered in scalar divide\n",
      "  return np.dot(list_target,list_check)/( np.linalg.norm(list_target)*np.linalg.norm(list_check))\n"
     ]
    },
    {
     "data": {
      "text/plain": [
       "<AxesSubplot: >"
      ]
     },
     "execution_count": 44,
     "metadata": {},
     "output_type": "execute_result"
    },
    {
     "data": {
      "image/png": "[encoded data removed]",
      "text/plain": [
       "<Figure size 640x480 with 2 Axes>"
      ]
     },
     "metadata": {},
     "output_type": "display_data"
    }
   ],
   "source": [
    "res_data = dict()\n",
    "for target_idx, target_user in cos_records.items():\n",
    "    check_data =dict()\n",
    "    for check_idx, check_user in cos_records.items():\n",
    "        check_data[check_idx] = get_cosine_similarity(target_user, check_user, mode='intersection')\n",
    "    res_data[target_idx] = check_data\n",
    "\n",
    "cos_inter = pd.DataFrame(res_data)\n",
    "sns.heatmap(cos_inter)"
   ]
  },
  {
   "cell_type": "code",
   "execution_count": 47,
   "metadata": {},
   "outputs": [
    {
     "data": {
      "text/plain": [
       "0     1.000000\n",
       "12    0.338317\n",
       "11    0.318158\n",
       "8     0.239594\n",
       "14    0.222395\n",
       "        ...   \n",
       "68    0.045302\n",
       "51    0.000000\n",
       "65   -0.038633\n",
       "61   -0.054636\n",
       "60   -0.122169\n",
       "Name: 0, Length: 70, dtype: float64"
      ]
     },
     "execution_count": 47,
     "metadata": {},
     "output_type": "execute_result"
    }
   ],
   "source": [
    "cos_full.iloc[0].sort_values(ascending=False)"
   ]
  },
  {
   "cell_type": "code",
   "execution_count": 48,
   "metadata": {},
   "outputs": [
    {
     "data": {
      "text/plain": [
       "15    1.000000\n",
       "0     1.000000\n",
       "2     1.000000\n",
       "1     1.000000\n",
       "11    0.851852\n",
       "        ...   \n",
       "4     0.325301\n",
       "51    0.000000\n",
       "60   -0.666667\n",
       "61   -1.000000\n",
       "65   -1.000000\n",
       "Name: 0, Length: 70, dtype: float64"
      ]
     },
     "execution_count": 48,
     "metadata": {},
     "output_type": "execute_result"
    }
   ],
   "source": [
    "cos_inter.iloc[0].sort_values(ascending=False)"
   ]
  },
  {
   "cell_type": "markdown",
   "metadata": {},
   "source": [
    "### euclidean distance"
   ]
  },
  {
   "cell_type": "markdown",
   "metadata": {},
   "source": [
    "#### full set"
   ]
  },
  {
   "cell_type": "code",
   "execution_count": 83,
   "metadata": {},
   "outputs": [],
   "source": [
    "def make_group(data:pd.DataFrame):\n",
    "    # data.index = data['user_id']\n",
    "    data['score'] = data['join_cnt'] - data['reject_cnt']\n",
    "    return data.loc[:, ['item_id', 'score']]\n",
    "\n",
    "\n",
    "test = df_grouped.groupby(by=['user_id'], group_keys=True).apply(make_group)"
   ]
  },
  {
   "cell_type": "code",
   "execution_count": 72,
   "metadata": {},
   "outputs": [
    {
     "data": {
      "text/html": [
       "<div>\n",
       "<style scoped>\n",
       "    .dataframe tbody tr th:only-of-type {\n",
       "        vertical-align: middle;\n",
       "    }\n",
       "\n",
       "    .dataframe tbody tr th {\n",
       "        vertical-align: top;\n",
       "    }\n",
       "\n",
       "    .dataframe thead th {\n",
       "        text-align: right;\n",
       "    }\n",
       "</style>\n",
       "<table border=\"1\" class=\"dataframe\">\n",
       "  <thead>\n",
       "    <tr style=\"text-align: right;\">\n",
       "      <th></th>\n",
       "      <th>user_id</th>\n",
       "      <th>item_id</th>\n",
       "      <th>apply_cnt</th>\n",
       "      <th>join_cnt</th>\n",
       "      <th>reject_cnt</th>\n",
       "      <th>ratio</th>\n",
       "    </tr>\n",
       "  </thead>\n",
       "  <tbody>\n",
       "    <tr>\n",
       "      <th>0</th>\n",
       "      <td>0</td>\n",
       "      <td>0</td>\n",
       "      <td>3.0</td>\n",
       "      <td>0.0</td>\n",
       "      <td>3.0</td>\n",
       "      <td>0.000</td>\n",
       "    </tr>\n",
       "    <tr>\n",
       "      <th>1</th>\n",
       "      <td>0</td>\n",
       "      <td>1</td>\n",
       "      <td>3.0</td>\n",
       "      <td>0.0</td>\n",
       "      <td>3.0</td>\n",
       "      <td>0.000</td>\n",
       "    </tr>\n",
       "    <tr>\n",
       "      <th>2</th>\n",
       "      <td>0</td>\n",
       "      <td>2</td>\n",
       "      <td>2.0</td>\n",
       "      <td>1.0</td>\n",
       "      <td>1.0</td>\n",
       "      <td>0.500</td>\n",
       "    </tr>\n",
       "    <tr>\n",
       "      <th>3</th>\n",
       "      <td>0</td>\n",
       "      <td>3</td>\n",
       "      <td>8.0</td>\n",
       "      <td>1.0</td>\n",
       "      <td>7.0</td>\n",
       "      <td>0.125</td>\n",
       "    </tr>\n",
       "    <tr>\n",
       "      <th>4</th>\n",
       "      <td>0</td>\n",
       "      <td>7</td>\n",
       "      <td>5.0</td>\n",
       "      <td>1.0</td>\n",
       "      <td>4.0</td>\n",
       "      <td>0.200</td>\n",
       "    </tr>\n",
       "    <tr>\n",
       "      <th>...</th>\n",
       "      <td>...</td>\n",
       "      <td>...</td>\n",
       "      <td>...</td>\n",
       "      <td>...</td>\n",
       "      <td>...</td>\n",
       "      <td>...</td>\n",
       "    </tr>\n",
       "    <tr>\n",
       "      <th>28497</th>\n",
       "      <td>69</td>\n",
       "      <td>1930</td>\n",
       "      <td>1.0</td>\n",
       "      <td>0.0</td>\n",
       "      <td>1.0</td>\n",
       "      <td>0.000</td>\n",
       "    </tr>\n",
       "    <tr>\n",
       "      <th>28498</th>\n",
       "      <td>69</td>\n",
       "      <td>1931</td>\n",
       "      <td>3.0</td>\n",
       "      <td>0.0</td>\n",
       "      <td>3.0</td>\n",
       "      <td>0.000</td>\n",
       "    </tr>\n",
       "    <tr>\n",
       "      <th>28499</th>\n",
       "      <td>69</td>\n",
       "      <td>1932</td>\n",
       "      <td>1.0</td>\n",
       "      <td>0.0</td>\n",
       "      <td>1.0</td>\n",
       "      <td>0.000</td>\n",
       "    </tr>\n",
       "    <tr>\n",
       "      <th>28500</th>\n",
       "      <td>69</td>\n",
       "      <td>1935</td>\n",
       "      <td>2.0</td>\n",
       "      <td>0.0</td>\n",
       "      <td>2.0</td>\n",
       "      <td>0.000</td>\n",
       "    </tr>\n",
       "    <tr>\n",
       "      <th>28501</th>\n",
       "      <td>69</td>\n",
       "      <td>1937</td>\n",
       "      <td>1.0</td>\n",
       "      <td>0.0</td>\n",
       "      <td>1.0</td>\n",
       "      <td>0.000</td>\n",
       "    </tr>\n",
       "  </tbody>\n",
       "</table>\n",
       "<p>28502 rows × 6 columns</p>\n",
       "</div>"
      ],
      "text/plain": [
       "       user_id  item_id  apply_cnt  join_cnt  reject_cnt  ratio\n",
       "0            0        0        3.0       0.0         3.0  0.000\n",
       "1            0        1        3.0       0.0         3.0  0.000\n",
       "2            0        2        2.0       1.0         1.0  0.500\n",
       "3            0        3        8.0       1.0         7.0  0.125\n",
       "4            0        7        5.0       1.0         4.0  0.200\n",
       "...        ...      ...        ...       ...         ...    ...\n",
       "28497       69     1930        1.0       0.0         1.0  0.000\n",
       "28498       69     1931        3.0       0.0         3.0  0.000\n",
       "28499       69     1932        1.0       0.0         1.0  0.000\n",
       "28500       69     1935        2.0       0.0         2.0  0.000\n",
       "28501       69     1937        1.0       0.0         1.0  0.000\n",
       "\n",
       "[28502 rows x 6 columns]"
      ]
     },
     "execution_count": 72,
     "metadata": {},
     "output_type": "execute_result"
    }
   ],
   "source": [
    "df_grouped"
   ]
  },
  {
   "cell_type": "code",
   "execution_count": null,
   "metadata": {},
   "outputs": [],
   "source": []
  },
  {
   "cell_type": "code",
   "execution_count": 50,
   "metadata": {},
   "outputs": [
    {
     "data": {
      "text/plain": [
       "{0: 0.0,\n",
       " 1: 0.0,\n",
       " 2: 0.5,\n",
       " 3: 0.125,\n",
       " 7: 0.2,\n",
       " 8: 0.0,\n",
       " 10: 0.0,\n",
       " 11: 0.75,\n",
       " 12: 0.0,\n",
       " 13: 0.5,\n",
       " 15: 0.0,\n",
       " 16: 0.2857142857142857,\n",
       " 18: 0.0,\n",
       " 19: 0.0,\n",
       " 20: 0.25,\n",
       " 23: 0.0,\n",
       " 30: 0.0,\n",
       " 33: 0.0,\n",
       " 34: 0.5,\n",
       " 35: 0.1111111111111111,\n",
       " 36: 0.0,\n",
       " 37: 1.0,\n",
       " 38: 0.0,\n",
       " 40: 0.0,\n",
       " 41: 0.3333333333333333,\n",
       " 42: 0.0,\n",
       " 43: 0.6666666666666666,\n",
       " 44: 0.0,\n",
       " 53: 0.0,\n",
       " 55: 0.0,\n",
       " 56: 0.3333333333333333,\n",
       " 57: 0.0,\n",
       " 58: 0.0,\n",
       " 59: 0.0,\n",
       " 60: 1.0,\n",
       " 61: 0.5714285714285714,\n",
       " 62: 0.0,\n",
       " 63: 0.0,\n",
       " 64: 0.0,\n",
       " 66: 0.0,\n",
       " 68: 0.0,\n",
       " 70: 0.0,\n",
       " 71: 0.0,\n",
       " 73: 0.0,\n",
       " 74: 0.0,\n",
       " 75: 0.0,\n",
       " 77: 0.6666666666666666,\n",
       " 83: 0.0,\n",
       " 84: 0.0,\n",
       " 93: 0.0,\n",
       " 94: 0.0,\n",
       " 96: 0.0,\n",
       " 103: 0.0,\n",
       " 104: 0.0,\n",
       " 113: 0.0,\n",
       " 117: 0.0,\n",
       " 118: 0.0,\n",
       " 125: 0.5,\n",
       " 149: 0.0,\n",
       " 172: 0.5,\n",
       " 175: 0.0,\n",
       " 181: 0.5,\n",
       " 183: 1.0,\n",
       " 188: 0.3333333333333333,\n",
       " 193: 0.0,\n",
       " 203: 0.0,\n",
       " 208: 0.0,\n",
       " 209: 0.0,\n",
       " 219: 0.0,\n",
       " 220: 0.0,\n",
       " 228: 0.0,\n",
       " 229: 0.0,\n",
       " 233: 0.0,\n",
       " 234: 0.2,\n",
       " 238: 0.0,\n",
       " 241: 0.3333333333333333,\n",
       " 243: 0.0,\n",
       " 245: 0.0,\n",
       " 246: 0.2,\n",
       " 247: 0.0,\n",
       " 251: 0.0,\n",
       " 256: 0.0,\n",
       " 257: 0.0,\n",
       " 258: 0.6666666666666666,\n",
       " 259: 0.0,\n",
       " 260: 0.0,\n",
       " 263: 0.0,\n",
       " 265: 0.0,\n",
       " 267: 0.0,\n",
       " 269: 0.0,\n",
       " 273: 1.0,\n",
       " 282: 0.0,\n",
       " 286: 1.0,\n",
       " 289: 0.6,\n",
       " 291: 0.0,\n",
       " 292: 0.6666666666666666,\n",
       " 293: 0.0,\n",
       " 294: 0.0,\n",
       " 296: 0.0,\n",
       " 300: 0.0,\n",
       " 301: 0.0,\n",
       " 305: 0.6666666666666666,\n",
       " 311: 0.25,\n",
       " 312: 0.2,\n",
       " 315: 0.25,\n",
       " 316: 0.0,\n",
       " 317: 0.0,\n",
       " 318: 0.0,\n",
       " 319: 0.0,\n",
       " 324: 0.0,\n",
       " 325: 0.5,\n",
       " 327: 0.0,\n",
       " 328: 0.0,\n",
       " 329: 0.0,\n",
       " 330: 0.0,\n",
       " 331: 0.0,\n",
       " 332: 0.0,\n",
       " 333: 0.0,\n",
       " 334: 0.0,\n",
       " 335: 0.0,\n",
       " 336: 0.125,\n",
       " 337: 0.0,\n",
       " 340: 0.0,\n",
       " 341: 0.0,\n",
       " 342: 0.0,\n",
       " 343: 0.0,\n",
       " 344: 0.0,\n",
       " 345: 0.0,\n",
       " 348: 0.0,\n",
       " 349: 0.0,\n",
       " 350: 0.0,\n",
       " 351: 0.0,\n",
       " 352: 0.0,\n",
       " 372: 0.0}"
      ]
     },
     "execution_count": 50,
     "metadata": {},
     "output_type": "execute_result"
    }
   ],
   "source": [
    "cos_records[0]"
   ]
  },
  {
   "cell_type": "code",
   "execution_count": null,
   "metadata": {},
   "outputs": [],
   "source": [
    "def get_euclidean(target:dict, check:dict):\n",
    "    intersection_items = set(list(target.keys())).intersection(list(check.keys()))\n",
    "    "
   ]
  },
  {
   "cell_type": "code",
   "execution_count": 56,
   "metadata": {},
   "outputs": [
    {
     "data": {
      "text/plain": [
       "1.7320508075688772"
      ]
     },
     "execution_count": 56,
     "metadata": {},
     "output_type": "execute_result"
    }
   ],
   "source": [
    "np.linalg.norm(\n",
    "    np.array((0,1,2)) - np.array((1, 2, 3))\n",
    ")"
   ]
  },
  {
   "cell_type": "code",
   "execution_count": 57,
   "metadata": {},
   "outputs": [
    {
     "data": {
      "text/plain": [
       "1.7320508075688772"
      ]
     },
     "execution_count": 57,
     "metadata": {},
     "output_type": "execute_result"
    }
   ],
   "source": [
    "def get_cosine_similarity(target:dict, check:dict, mode:str =\"full\"):\n",
    "    if mode == \"full\":\n",
    "        full_items = set(list(target.keys()) + list(check.keys()))\n",
    "    elif mode == \"intersection\":\n",
    "        full_items = set(list(target.keys())).intersection(list(check.keys()))\n",
    "    list_target = list()\n",
    "    list_check = list()\n",
    "    for idx in full_items:\n",
    "        if target.get(idx) == None:\n",
    "            list_target.append(0)\n",
    "        else:\n",
    "            if target.get(idx) >=0.5:\n",
    "                list_target.append(1)\n",
    "            else:\n",
    "                list_target.append(-1)\n",
    "        \n",
    "        if check.get(idx) == None:\n",
    "            list_check.append(0)\n",
    "        else:\n",
    "            if check.get(idx) >=0.5:\n",
    "                list_check.append(1)\n",
    "            else:\n",
    "                list_check.append(-1)\n",
    "\n",
    "    return np.dot(list_target,list_check)/( np.linalg.norm(list_target)*np.linalg.norm(list_check))\n"
   ]
  },
  {
   "cell_type": "code",
   "execution_count": null,
   "metadata": {},
   "outputs": [],
   "source": []
  },
  {
   "cell_type": "code",
   "execution_count": null,
   "metadata": {},
   "outputs": [],
   "source": []
  },
  {
   "cell_type": "code",
   "execution_count": null,
   "metadata": {},
   "outputs": [],
   "source": []
  },
  {
   "cell_type": "code",
   "execution_count": null,
   "metadata": {},
   "outputs": [],
   "source": []
  },
  {
   "cell_type": "code",
   "execution_count": null,
   "metadata": {},
   "outputs": [],
   "source": []
  },
  {
   "cell_type": "code",
   "execution_count": null,
   "metadata": {},
   "outputs": [],
   "source": []
  },
  {
   "cell_type": "code",
   "execution_count": null,
   "metadata": {},
   "outputs": [],
   "source": []
  },
  {
   "cell_type": "code",
   "execution_count": null,
   "metadata": {},
   "outputs": [],
   "source": []
  },
  {
   "cell_type": "code",
   "execution_count": null,
   "metadata": {},
   "outputs": [],
   "source": []
  },
  {
   "cell_type": "code",
   "execution_count": null,
   "metadata": {},
   "outputs": [],
   "source": []
  },
  {
   "cell_type": "code",
   "execution_count": null,
   "metadata": {},
   "outputs": [],
   "source": []
  },
  {
   "cell_type": "code",
   "execution_count": null,
   "metadata": {},
   "outputs": [],
   "source": []
  },
  {
   "cell_type": "code",
   "execution_count": null,
   "metadata": {},
   "outputs": [],
   "source": []
  }
 ],
 "metadata": {
  "kernelspec": {
   "display_name": "Python 3.8.10 ('.venv': venv)",
   "language": "python",
   "name": "python3"
  },
  "language_info": {
   "codemirror_mode": {
    "name": "ipython",
    "version": 3
   },
   "file_extension": ".py",
   "mimetype": "text/x-python",
   "name": "python",
   "nbconvert_exporter": "python",
   "pygments_lexer": "ipython3",
   "version": "3.8.10"
  },
  "orig_nbformat": 4,
  "vscode": {
   "interpreter": {
    "hash": "5d14d6331aca81bd7b234527e3f27434c5b902a357d8202dfc1d99c89986a223"
   }
  }
 },
 "nbformat": 4,
 "nbformat_minor": 2
}
