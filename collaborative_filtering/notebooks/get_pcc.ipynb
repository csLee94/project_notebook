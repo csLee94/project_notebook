{
 "cells": [
  {
   "cell_type": "code",
   "execution_count": null,
   "metadata": {},
   "outputs": [
    {
     "ename": "",
     "evalue": "",
     "output_type": "error",
     "traceback": [
      "\u001b[1;31m'Python 3.8.10 ('.venv': venv)'(으)로 셀을 실행하려면 ipykernel 패키지가 필요합니다.\n",
      "\u001b[1;31m다음 명령어를 실행하여 Python 환경에 'ipykernel'을(를) 설치합니다. \n",
      "\u001b[1;31m 명령: '/Users/user/Documents/workSpace/00.git/project_notebook/ALS/.venv/bin/python3 -m pip install ipykernel -U --force-reinstall'"
     ]
    }
   ],
   "source": [
    "import os \n",
    "from dotenv import load_dotenv\n",
    "import numpy as np\n",
    "import pandas as pd\n",
    "import matplotlib.pyplot as plt\n",
    "import seaborn as sns\n",
    "\n",
    "load_dotenv()\n",
    "\n",
    "base_path = os.getenv(\"BASE_LOCAL_DIR_PATH\")"
   ]
  },
  {
   "cell_type": "markdown",
   "metadata": {},
   "source": [
    "# Apply Pearson correlation coeifficient to users\n",
    "---\n",
    "- 주어진 신청&선정 내역 내, 특정 제품에 대한 동시평가 요소가 너무 적어 새로운 방식 적용 시도.\n",
    "- 개괄적인 blueprint를 잡기 위한 내용으로, 쉽고 단순한 모델들을 활용해 pre-test 시도.\n",
    "\n",
    "#### How to get PCC?\n",
    "- 평점은 user별로 제공받은 제품 빈도 대비 선정율로 정의\n",
    "- $x$축에는 `user_1` & $y$축에는 `user_2`를 가지는 2차원 평면에서 두 `user`간의 평점 사이에 상관관계를 탐색"
   ]
  },
  {
   "cell_type": "code",
   "execution_count": null,
   "metadata": {},
   "outputs": [],
   "source": []
  }
 ],
 "metadata": {
  "kernelspec": {
   "display_name": "Python 3.8.9 64-bit",
   "language": "python",
   "name": "python3"
  },
  "language_info": {
   "name": "python",
   "version": "3.8.9"
  },
  "orig_nbformat": 4,
  "vscode": {
   "interpreter": {
    "hash": "31f2aee4e71d21fbe5cf8b01ff0e069b9275f58929596ceb00d14d90e3e16cd6"
   }
  }
 },
 "nbformat": 4,
 "nbformat_minor": 2
}
